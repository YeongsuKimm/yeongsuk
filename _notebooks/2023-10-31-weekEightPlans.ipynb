{
 "cells": [
  {
   "cell_type": "markdown",
   "metadata": {},
   "source": [
    "---\n",
    "# toc: true\n",
    "comments: false\n",
    "layout: default\n",
    "title: Week 8 Plans\n",
    "type: plans \n",
    "courses: { compsci: {week: 7} }\n",
    "---"
   ]
  },
  {
   "cell_type": "markdown",
   "metadata": {},
   "source": [
    "<h1>Week 8 Plans</h1>\n",
    "- Extracting data through pandas\n",
    "- Learn about python pandas and how it can be used to access data in python\n",
    "- Learn about the uses and how to use Booleans and if statements (collegeboard)\n",
    "- Learn about the uses and the functionalities of iteration in coding (collegeboard)"
   ]
  }
 ],
 "metadata": {
  "language_info": {
   "name": "python"
  }
 },
 "nbformat": 4,
 "nbformat_minor": 2
}
