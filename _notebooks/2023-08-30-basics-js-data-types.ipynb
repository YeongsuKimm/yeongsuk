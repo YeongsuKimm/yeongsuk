{
 "cells": [
  {
   "cell_type": "raw",
   "metadata": {},
   "source": [
    "---\n",
    "title: Javascript Data Types/Lists\n",
    "hide: True\n",
    "description: A Tech Talk on javascript data types and how to use with lists\n",
    "type: ccc\n",
    "permalink: /basics/datatypes\n",
    "---"
   ]
  },
  {
   "cell_type": "markdown",
   "metadata": {},
   "source": [
    "<ul>\n",
    "    <li>.substring()</li>\n",
    "    <li>.toUpperCase() and .toLowerCase()</li>\n",
    "    <li>.includes()</li>\n",
    "    <li>.toString()</li>\n",
    "    <li>Math.round(num1 / num2)</li>\n",
    "    <li>.toFixed(int)</li>\n",
    "    <li>.shift() - removes the first element of array</li>\n",
    "    <li>.pop() - removes the last element of array</li>\n",
    "    <li>.push(Object) - adds an element to array</li>\n",
    "    <li>obj datatype</li>\n",
    "    <li>var x {\n",
    "        1: \"A\",\n",
    "        2: \"B\",\n",
    "        3: \"C\",\n",
    "    }</li>\n",
    "</ul>"
   ]
  },
  {
   "cell_type": "raw",
   "metadata": {},
   "source": [
    "{% include nav_basics.html %}\n"
   ]
  },
  {
   "cell_type": "code",
   "execution_count": 19,
   "metadata": {},
   "outputs": [
    {
     "data": {
      "text/html": [
       "<script>\n",
       "    var person_one = {\n",
       "        name: \"Yeongsu Kim\",\n",
       "        age: 15,\n",
       "        classes: {1: \"Honors Humanities\", 2: \"AP Chemistry\", 3: \"AP Calculus AB\", 4: \"AP World History\", 5: \"AP Computer Science Principles\"},\n",
       "        interests: [\"Music\", \"Video Games\", \"Candy\", \"Basketball\"],\n",
       "        favorite_songs: [\"Brahms Violin Concerto\", \"Tchaikovsky Violin Concerto\", \"Tchaikovsky Symphony no.5\"],\n",
       "        id_num:\"1951443\",\n",
       "        num_games:5,\n",
       "        num_wins:2,\n",
       "    }\n",
       "    console.log(person_one);\n",
       "    \n",
       "    person_one[\"birthday\"] = \"July 23, 2008\";\n",
       "    person_one.interests.push(\"Computer Programming\");\n",
       "    person_one.favorite_songs.push(\"Organ Symphony\");\n",
       "    console.log(person_one);\n",
       "    \n",
       "    if(person_one.num_games == 0 || person_one.num_wins == 0)\n",
       "    {\n",
       "        console.log(\"Win Percentage: 0%\");\n",
       "    }\n",
       "    else{\n",
       "        console.log(\"Win Percentage: \" + (person_one.num_wins/person_one.num_games).toFixed(2)*100 + \"%\");\n",
       "    }\n",
       "    \n",
       "    console.log(typeof person_one);\n",
       "    console.log(typeof person_one.name);\n",
       "    console.log(typeof person_one.age);\n",
       "    console.log(typeof person_one.interests);\n",
       "</script>\n"
      ],
      "text/plain": [
       "<IPython.core.display.HTML object>"
      ]
     },
     "metadata": {},
     "output_type": "display_data"
    }
   ],
   "source": [
    "%%html\n",
    "<script>\n",
    "    var person_one = {\n",
    "        name: \"Yeongsu Kim\",\n",
    "        age: 15,\n",
    "        classes: {1: \"Honors Humanities\", 2: \"AP Chemistry\", 3: \"AP Calculus AB\", 4: \"AP World History\", 5: \"AP Computer Science Principles\"},\n",
    "        interests: [\"Music\", \"Video Games\", \"Candy\", \"Basketball\"],\n",
    "        favorite_songs: [\"Brahms Violin Concerto\", \"Tchaikovsky Violin Concerto\", \"Tchaikovsky Symphony no.5\"],\n",
    "        id_num:\"1951443\",\n",
    "        num_games:5,\n",
    "        num_wins:2,\n",
    "    }\n",
    "    console.log(person_one);\n",
    "    \n",
    "    person_one[\"birthday\"] = \"July 23, 2008\";\n",
    "    person_one.interests.push(\"Computer Programming\");\n",
    "    person_one.favorite_songs.push(\"Organ Symphony\");\n",
    "    console.log(person_one);\n",
    "    \n",
    "    if(person_one.num_games == 0 || person_one.num_wins == 0)\n",
    "    {\n",
    "        console.log(\"Win Percentage: 0%\");\n",
    "    }\n",
    "    else{\n",
    "        console.log(\"Win Percentage: \" + (person_one.num_wins/person_one.num_games).toFixed(2)*100 + \"%\");\n",
    "    }\n",
    "    \n",
    "    console.log(typeof person_one);\n",
    "    console.log(typeof person_one.name);\n",
    "    console.log(typeof person_one.age);\n",
    "    console.log(typeof person_one.interests);\n",
    "</script>\n"
   ]
  }
 ],
 "metadata": {
  "kernelspec": {
   "display_name": "Python 3 (ipykernel)",
   "language": "python",
   "name": "python3"
  },
  "language_info": {
   "codemirror_mode": {
    "name": "ipython",
    "version": 3
   },
   "file_extension": ".py",
   "mimetype": "text/x-python",
   "name": "python",
   "nbconvert_exporter": "python",
   "pygments_lexer": "ipython3",
   "version": "3.10.12"
  }
 },
 "nbformat": 4,
 "nbformat_minor": 4
}
