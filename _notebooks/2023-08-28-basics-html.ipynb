{
 "cells": [
  {
   "cell_type": "markdown",
   "metadata": {},
   "source": [
    "---\n",
    "layout: post\n",
    "hide: True\n",
    "title: Passion Project Layout\n",
    "# description: An introduction to basic HTML, and resources to learn more.\n",
    "type: ccc\n",
    "permalink: /basics/html\n",
    "---"
   ]
  },
  {
   "cell_type": "raw",
   "metadata": {},
   "source": [
    "{% include nav_basics.html %}\n"
   ]
  },
  {
   "cell_type": "markdown",
   "metadata": {},
   "source": [
    "<style>\n",
    "  p{font-family: sans-serif;}\n",
    "  hr{background-color: #7e92d6;}\n",
    "  .color{color:#7e92d6;}\n",
    "  body {\n",
    "    padding: 25px;\n",
    "    background-color: #282b30;\n",
    "    color: #7e92d6;\n",
    "    font-size: 16px;\n",
    "    transition-duration: 0.2s;\n",
    "  }\n",
    "  hr{background-color: #7e92d6;}\n",
    "  .board {\n",
    "      display: grid;\n",
    "      grid-template-columns: repeat(3, 100px);\n",
    "      grid-gap: 2px;\n",
    "    }\n",
    "    .cell {\n",
    "      width: 100px;\n",
    "      height: 100px;\n",
    "      border: 1px solid #7e92d6;\n",
    "      display: flex;\n",
    "      align-items: center;\n",
    "      justify-content: center;\n",
    "      font-size: 24px;\n",
    "      cursor: pointer;\n",
    "    }\n",
    "</style>\n",
    "\n",
    "\n",
    "<script>\n",
    "  \n",
    "var IsLoggedIn1 = \"true\";\n",
    "function myFunction() {\n",
    "  var element = document.body;\n",
    "  element.classList.toggle(\"dark-mode\");\n",
    "  var elem = document.querySelectorAll(\"#border\");\n",
    "  elem.forEach(function(border) {\n",
    "    border.classList.toggle(\"border-dark\");\n",
    "    });\n",
    "  var bars = document.querySelectorAll(\"#bar\");\n",
    "  bars.forEach(function(bar) {\n",
    "    bar.classList.toggle(\"bar-dark\");\n",
    "    });\n",
    "  var cellz = document.querySelectorAll(\"#cells\");\n",
    "  cellz.forEach(function(cells) {\n",
    "    cells.classList.toggle(\"cell\");\n",
    "    cells.classList.toggle(\"cells-dark\");\n",
    "    });\n",
    "}\n",
    "</script>\n",
    "\n",
    "\n",
    "<p style=\"font-size:36px;font-weight:bold\"> Insert Basketball Game Here </p>\n",
    "\n",
    "<!-- | Period   | Class   |\n",
    "| -------- | ------- |\n",
    "| 1        | [AP Calc](https://docs.google.com/document/d/1y261HMZAvWUGejSBIOL2xiuVJkLcg_qR/edit)    |\n",
    "| 2        | [AP World](https://docs.google.com/document/d/1lURCs6UhD6cJ7ld4NrLNDUb-6VuKnC1r8UTJq3j2KOw/edit)     |\n",
    "| 3        | [Honors Humanities](https://poway.instructure.com/courses/141205/pages/august-2023)    |\n",
    "| 4        | [AP Physics](https://poway.instructure.com/courses/141173)   |\n",
    "| 5        | [AP CSP](https://poway.instructure.com/courses/141645)     | -->"
   ]
  }
 ],
 "metadata": {
  "kernelspec": {
   "display_name": "Python 3",
   "language": "python",
   "name": "python3"
  },
  "language_info": {
   "name": "python",
   "version": "3.9.12"
  },
  "orig_nbformat": 4
 },
 "nbformat": 4,
 "nbformat_minor": 2
}
