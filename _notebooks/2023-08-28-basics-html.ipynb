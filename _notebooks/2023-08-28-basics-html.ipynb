{
 "cells": [
  {
   "cell_type": "markdown",
   "metadata": {},
   "source": [
    "---\n",
    "layout: post\n",
    "hide: True\n",
    "title: Passion Project Layout\n",
    "# description: An introduction to basic HTML, and resources to learn more.\n",
    "type: ccc\n",
    "permalink: /basics/html\n",
    "comments: true\n",
    "---"
   ]
  },
  {
   "cell_type": "raw",
   "metadata": {},
   "source": [
    "{% include nav_basics.html %}\n"
   ]
  },
  {
   "cell_type": "markdown",
   "metadata": {},
   "source": [
    "<div>\n",
    "    <p>hello!</p>\n",
    "    <a href=\"https://csp.nighthawkcodingsociety.com/\" style=\"color: blue\">1. linky</a>\n",
    "</div>\n",
    "\n",
    "<div>\n",
    "    <a href=\"https://csp.nighthawkcodingsociety.com/\" style=\"color: blue\">2. linky</a><br>\n",
    "    <a href=\"https://csp.nighthawkcodingsociety.com/\" style=\"color: blue\">3. linky</a>\n",
    "    <p>hello</p>\n",
    "</div>"
   ]
  },
  {
   "cell_type": "code",
   "execution_count": null,
   "metadata": {},
   "outputs": [],
   "source": [
    "%%html\n",
    "# Code\n",
    "<div>\n",
    "    <p>hello!</p>\n",
    "    <a href=\"https://csp.nighthawkcodingsociety.com/\" style=\"color: lightblue\">1. linky</a>\n",
    "</div>\n",
    "\n",
    "<div>\n",
    "    <a href=\"https://csp.nighthawkcodingsociety.com/\" style=\"color: lightblue\">2. linky</a><br>\n",
    "    <a href=\"https://csp.nighthawkcodingsociety.com/\" style=\"color: lightblue\">3. linky</a>\n",
    "    <p>hello</p>\n",
    "</div>"
   ]
  }
 ],
 "metadata": {
  "kernelspec": {
   "display_name": "Python 3",
   "language": "python",
   "name": "python3"
  },
  "language_info": {
   "name": "python",
   "version": "3.9.12"
  },
  "orig_nbformat": 4
 },
 "nbformat": 4,
 "nbformat_minor": 2
}
