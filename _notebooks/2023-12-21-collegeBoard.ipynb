{
 "cells": [
  {
   "cell_type": "markdown",
   "metadata": {},
   "source": [
    "---\n",
    "toc: true\n",
    "comments: true\n",
    "layout: post\n",
    "title: CB MCQ\n",
    "type: hacks\n",
    "courses: { compsci: {week: 17} }\n",
    "---"
   ]
  },
  {
   "cell_type": "markdown",
   "metadata": {},
   "source": [
    "# CB MCQ\n",
    "Grade: 62/67\n",
    "### Journey\n",
    "Through my experiences with college board practice MCQs, I have come to realize that these questions help to not just get the right answers, but also learn from them. Because most of the things taught feel like memorizing or just knowing the facts, I think it helps to test my understanding of the knowledge through something that tests my depth in understanding. Also, these questions helped me to understand the basics of a various number of topics as the MCQ makes sure to contain a diverse pool of questions that test each topic. Not only that, the questions picked out for each topic relating to the units in college board were were chosen as they encompassed much of what the topic is about and the key takeaways from each one. As I solved for each question, I was able to learn the things I didn't know previously by searching for it online. For example, because of the fact that these MCQs are so long and cover various topics, I think I was able to solidify the parts that I was not too confident or unsure about. Therefore, not only do these MCQs test your knowledge on these various topics, it also brings light to and tells you the topics and units you should probably review or look over. Therefore, the MCQ can be a great study guide for reviewing the topics and subjects that you are less confident or knowledgeable on. It's a journey that helped me  become a creative thinker and a good problem solver as it sometimes tested my ability to solve certain problems. For example, I would be given various things I need to check for or complete within a code expression, and I would try to see which solution would best fit the purpose of the problem. \n",
    "\n",
    "### Question Corrections\n",
    "- Q11 Color represented by binary triplet\n",
    "Correct Answer: A-Ivory\n",
    "My Answer: B- Light Yellow\n",
    "Explanation:\n",
    "\n",
    "#### Incorrect because the binary RGB triplet for light yellow is (11111111, 11111111, 11100000). This is because it was asking for the corresponding RGB values of (11111111, 11111111, 11110000). This would match up with Ivory because the R-value is 255, G-value 255, and the B-value 240. This would match up with the RGB values of Ivory. I got this wrong because I miscalculated the conversions between the two number systems.\n",
    "\n",
    "- Q23 Flowchart to set available\n",
    "Correct Answer: D\n",
    "My Answer: B\n",
    "Explanation:\n",
    "#### I got this incorrect as this expression is equivalent to an algorithm that sets available to true whenever weekday is true and miles is at least 20. The algorithm in the flowchart requires both conditions to be true in order to set available to true. Therefore B would be incorrect as it fails to satisfy both conditions.\n",
    "\n",
    "- Q40 Role of certificate authorities\n",
    "Correct Answer: D\n",
    "My Answer: A\n",
    "Explanation:\n",
    "#### I got this wrong because I wasn't aware that Certificate authorities do not verify the safety of Web sites. Therefore A would be wrong as it contains the assumption that a certificate authority certifies the safety of a particular Web site so that users know that it does not contain any viruses. In reality, a certificate authority verifies the authenticity of encryption keys used in secured communications.\n",
    "\n",
    "- Q45 Coin flip simulation\n",
    "Correct Answer: D\n",
    "My Answer: B\n",
    "Explanation:\n",
    "#### Answer choice B is incorrect as the variable flip is assigned one of four values: 0, 1, 2, or 3. The player wins approximately two out of every four times (when flip is 0 or 3). However, the code segment should run if it passes the conditions in which it it equal to two different numbers, creating the statistical possibility of every one in two.\n",
    "\n",
    "- Q62 Which selection statements will display true\n",
    "Correct Answer: A & B\n",
    "My Answer: A & C\n",
    "Explanation:\n",
    "#### I got A correct since x is true, the body of the IF statement is executed. Since x OR y evaluates to true, true is displayed. However, I got C incorrect because x OR y evaluates to true, the body of the IF statement is executed. Since x AND y evaluates to false, false is displayed. The answer should have been B however since x OR y evaluates to true, the body of the IF statement is executed. Since x is true, true is displayed.\n",
    "\n",
    "### Reflection\n",
    "As I took the MCQ, I was made aware of the topics and skills that I was less capable of. Therefore recognizing the shortcomings in knowing and undestanding these various topics, I was able to learn more and expand my knowledge from researching and learning throughout this process. Therefore, using this MCQ, I can pick out the topics that I am less certain and confident in. Additionally, the topics that I was uncertain about were made clearer as I dived deeper into the subject in order to investigate the information relating to the topic. For example, although some of the questions I got right, I was sometimes uncertain about some of them, leading me to search online and seek information to understand the topic enough to answer the question. All in all, I was able to not only test my ability and skill in these various topics, I was able to acknowledge and notice the topic that are not as strong as the others. "
   ]
  }
 ],
 "metadata": {
  "language_info": {
   "name": "python"
  }
 },
 "nbformat": 4,
 "nbformat_minor": 2
}
