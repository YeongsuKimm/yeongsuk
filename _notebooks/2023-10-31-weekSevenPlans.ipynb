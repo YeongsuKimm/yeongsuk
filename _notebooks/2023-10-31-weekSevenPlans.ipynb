{
 "cells": [
  {
   "cell_type": "markdown",
   "metadata": {},
   "source": [
    "---\n",
    "# toc: true\n",
    "comments: false\n",
    "layout: default\n",
    "title: Week 7 Plans\n",
    "type: plans \n",
    "courses: { compsci: {week: 7} }\n",
    "---"
   ]
  },
  {
   "cell_type": "markdown",
   "metadata": {},
   "source": [
    "<h1>Week 7 Plans</h1>\n",
    "- Learn about data compression in order shorten or minimize file sizes to be either lossy or lossless\n",
    "- Learn about data abstraction (collegeboard)\n",
    "- Learn about algorithms and how they are able to run functionalities based on given data (collegeboard)\n",
    "- Start to set up plans and ideas for how to run the passion project"
   ]
  }
 ],
 "metadata": {
  "language_info": {
   "name": "python"
  }
 },
 "nbformat": 4,
 "nbformat_minor": 2
}
