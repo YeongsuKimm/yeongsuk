{
 "cells": [
  {
   "cell_type": "markdown",
   "metadata": {},
   "source": [
    "---\n",
    "comments: true\n",
    "layout: post\n",
    "title: CB Corrections\n",
    "description: CB Corrections\n",
    "type: tangible\n",
    "courses: { compsci: {week: 26} }\n",
    "---"
   ]
  },
  {
   "cell_type": "markdown",
   "metadata": {},
   "source": [
    "# Part 1 MCQ Grade\n",
    "<img src=\"/yeongsuk/images/cbGrade.png\">"
   ]
  },
  {
   "cell_type": "markdown",
   "metadata": {},
   "source": [
    "# Part2 - MCQ corrections/reflection\n",
    "## Question 36 - Why information is hard to remove from Internet\n",
    "<img src=\"/yeongsuk/images/36A.png\">\n",
    "> Correct Answer: All personal information is stored online using authentication measures, making the information hard to access.\n",
    "> My Answer: Internet users with a copy of the information might redistribute the personal information without first seeking permission.\n",
    "Explanation: My option was incorrect because personal information found online can be redistributed via social media posts, e-mail, and other methods. The correct option was corrected because personal information can be found in a variety of places where authentication measures may not be used, including social media sites. Personal information placed online can be collected, aggregated, distributed, and exploited. I got this wrong because I was simply ignorant on the topic. I previously thought that nothing gets deleted from the internet because someone is bound to create or download a copy of it. However, now I see that the data is stored somewhere when it is \"deleted\".\n",
    "\n",
    "\n",
    "## Question 55 -  Set bonus points based on timer\n",
    "<img src=\"/yeongsuk/images/55.png\">\n",
    "> Correct Answer: \n",
    "\n",
    "len = LENGTH(utensils)\n",
    "temp = utensils[len]\n",
    "REMOVE(utensils, len)\n",
    "INSERT(utensils, 1, temp)\n",
    "\n",
    "> My Answer: \n",
    "\n",
    "len = LENGTH(utensils)\n",
    "temp = utensils[len]\n",
    "REMOVE(utensils, len)\n",
    "APPEND(utensils, temp)\n",
    "\n",
    "Explanation: My answer was wrong because the code segment assigns the value of the last element of the list to the variable temp, then removes the last element of the list, then appends temp to the end of the list. The resulting list is the same as the original list. The correct answer is right because the code segment assigns the value of the last element of the list to the variable temp, then removes the last element of the list, then inserts temp as the first element of the list. I think I got this wrong due to some sort of misclick or misunderstanding as looking back on it, I feel like I should have gotten this correct as I knew why my option is wrong. This question was simply a mistake on my part. \n",
    "\n",
    "## Question 66 - Set bonus points based on timer\n",
    "<img src=\"/yeongsuk/images/was.png\">\n",
    "> Correct Answer:\n",
    "<img src=\"/yeongsuk/images/123512.png\">\n",
    "and \n",
    "<img src=\"/yeongsuk/images/1234.png\">\n",
    "\n",
    "> My Answer: \n",
    "<img src=\"/yeongsuk/images/abcc.png\">\n",
    "\n",
    "\n",
    "My option is wrong because this code segment does not work as intended. For example, if timer is greater than 60, bonus is assigned 1500 in the first IF block. Then bonus is assigned 1000 in the second IF block. As a result, bonus will be assigned 1000 instead of the intended 1500. The correct option is correct as this code segment assigns 500 bonus points by default. If timer is less than 30, no additional bonus points are added. If timer is between 30 and 60 inclusive, bonus is incremented by 500 in the first IF block. If timer is greater than 60, bonus is incremented by 500 twice (once in each IF block). The correct number of bonus points is assigned to bonus for all possible values of timer. For this question, I seemed to have rushed through the answer options, choosing the wrong option without processing how the code would run in my mind. To prevent this mistake, I can read the question and options more carefully next time. "
   ]
  }
 ],
 "metadata": {
  "language_info": {
   "name": "python"
  }
 },
 "nbformat": 4,
 "nbformat_minor": 2
}
