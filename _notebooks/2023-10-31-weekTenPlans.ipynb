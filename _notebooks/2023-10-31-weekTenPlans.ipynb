{
 "cells": [
  {
   "cell_type": "markdown",
   "metadata": {},
   "source": [
    "---\n",
    "# toc: true\n",
    "comments: false\n",
    "layout: default\n",
    "title: Week 10 Plans\n",
    "type: plans \n",
    "courses: { compsci: {week: 10} }\n",
    "---"
   ]
  },
  {
   "cell_type": "markdown",
   "metadata": {},
   "source": [
    "<h1>Week 10 Plans</h1>\n",
    "- Working on developing the class lecture for our team teach\n",
    "- Developing Procedures (collegeboard)\n",
    "- Learned about how functions can be defined in order to serve certain purposes.\n",
    "- Also learned about different ways to use data through classes\n",
    "- Libraries (collegeboard)\n",
    "- Learn about how there is preexistent code that is available for use for the public through python libraries"
   ]
  }
 ],
 "metadata": {
  "language_info": {
   "name": "python"
  }
 },
 "nbformat": 4,
 "nbformat_minor": 2
}
