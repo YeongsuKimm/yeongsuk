{
 "cells": [
  {
   "cell_type": "markdown",
   "metadata": {},
   "source": [
    "---\n",
    "# toc: true\n",
    "comments: false\n",
    "layout: default\n",
    "title: Converter\n",
    "type: tangibles\n",
    "courses: { compsci: {week: 2} }\n",
    "---"
   ]
  },
  {
   "cell_type": "markdown",
   "metadata": {},
   "source": [
    "<h1>Decimal to Binary</h1>"
   ]
  },
  {
   "cell_type": "code",
   "execution_count": null,
   "metadata": {},
   "outputs": [],
   "source": [
    "def decToBin(dec):\n",
    "    binary = \"\";\n",
    "    while(dec != 0):\n",
    "        binary = str(dec%2) + binary;\n",
    "        dec = int(dec/2);\n",
    "    return binary;\n",
    "\n",
    "print(decToBin(15));"
   ]
  },
  {
   "cell_type": "markdown",
   "metadata": {},
   "source": [
    "<h1>Binary to Decimal</h1>"
   ]
  },
  {
   "cell_type": "code",
   "execution_count": null,
   "metadata": {},
   "outputs": [],
   "source": [
    "def binToDec(bin):\n",
    "    dec = 0;\n",
    "    bin = str(bin);\n",
    "    for i in range(len(bin)):\n",
    "        dec += int(bin[i])*(2**(len(bin)-1-i));\n",
    "    return dec;\n",
    "\n",
    "print(binToDec(1111));"
   ]
  },
  {
   "cell_type": "markdown",
   "metadata": {},
   "source": [
    "<h1>Decimal to Hexadecimal</h1>"
   ]
  },
  {
   "cell_type": "code",
   "execution_count": null,
   "metadata": {},
   "outputs": [],
   "source": [
    "def decToHex(dec):\n",
    "    hexadecimal = \"\";\n",
    "    while(dec != 0):\n",
    "        if(dec%16 <= 10):\n",
    "            hexadecimal= str(dec%16) + hexadecimal;\n",
    "        elif (dec%16 == 10):\n",
    "            hexadecimal= \"A\" + hexadecimal;\n",
    "        elif (dec%16 == 11):\n",
    "            hexadecimal= \"B\" + hexadecimal;\n",
    "        elif (dec%16 == 12):\n",
    "            hexadecimal= \"C\" + hexadecimal;\n",
    "        elif (dec%16 == 13):\n",
    "            hexadecimal= \"D\" + hexadecimal;\n",
    "        elif (dec%16 == 14):\n",
    "            hexadecimal= \"E\" + hexadecimal;\n",
    "        elif (dec%16 == 15):\n",
    "            hexadecimal= \"F\" + hexadecimal;\n",
    "        dec = int(dec/16);\n",
    "    return hexadecimal;\n",
    "\n",
    "print(decToHex(1000));\n"
   ]
  },
  {
   "cell_type": "markdown",
   "metadata": {},
   "source": [
    "<h1>Hexadecimal to Decimal</h1>"
   ]
  },
  {
   "cell_type": "code",
   "execution_count": 1,
   "metadata": {},
   "outputs": [
    {
     "name": "stdout",
     "output_type": "stream",
     "text": [
      "64\n"
     ]
    }
   ],
   "source": [
    "def decToHex(decimal_number):\n",
    "    hexadecimal_number = \"\"\n",
    "\n",
    "    while decimal_number > 0:\n",
    "        remainder = decimal_number % 16\n",
    "\n",
    "        if remainder == 0:\n",
    "            hexadecimal_number = \"0\" + hexadecimal_number\n",
    "        elif remainder == 1:\n",
    "            hexadecimal_number = \"1\" + hexadecimal_number\n",
    "        elif remainder == 2:\n",
    "            hexadecimal_number = \"2\" + hexadecimal_number\n",
    "        elif remainder == 3:\n",
    "            hexadecimal_number = \"3\" + hexadecimal_number\n",
    "        elif remainder == 4:\n",
    "            hexadecimal_number = \"4\" + hexadecimal_number\n",
    "        elif remainder == 5:\n",
    "            hexadecimal_number = \"5\" + hexadecimal_number\n",
    "        elif remainder == 6:\n",
    "            hexadecimal_number = \"6\" + hexadecimal_number\n",
    "        elif remainder == 7:\n",
    "            hexadecimal_number = \"7\" + hexadecimal_number\n",
    "        elif remainder == 8:\n",
    "            hexadecimal_number = \"8\" + hexadecimal_number\n",
    "        elif remainder == 9:\n",
    "            hexadecimal_number = \"9\" + hexadecimal_number\n",
    "        elif remainder == 10:\n",
    "            hexadecimal_number = \"A\" + hexadecimal_number\n",
    "        elif remainder == 11:\n",
    "            hexadecimal_number = \"B\" + hexadecimal_number\n",
    "        elif remainder == 12:\n",
    "            hexadecimal_number = \"C\" + hexadecimal_number\n",
    "        elif remainder == 13:\n",
    "            hexadecimal_number = \"D\" + hexadecimal_number\n",
    "        elif remainder == 14:\n",
    "            hexadecimal_number = \"E\" + hexadecimal_number\n",
    "        elif remainder == 15:\n",
    "            hexadecimal_number = \"F\" + hexadecimal_number\n",
    "\n",
    "        decimal_number = decimal_number // 16\n",
    "\n",
    "    return hexadecimal_number\n",
    "\n",
    "print(decToHex(100));"
   ]
  },
  {
   "cell_type": "markdown",
   "metadata": {},
   "source": [
    "<!-- def hexaToDec(hexadecimal):\n",
    "     dec = 0;\n",
    "     hexadecimal = str(hexadecimal);\n",
    "     for i in range(len(hexadecimal)):\n",
    "         dec += int(hexadecimal[i])*(16**(len(hexadecimal)-1-i));\n",
    "     return hexadecimal;\n",
    "\n",
    "print(hexaToDec(1111)); -->"
   ]
  },
  {
   "cell_type": "markdown",
   "metadata": {},
   "source": [
    "<h1>Decimal To Octal</h1>"
   ]
  },
  {
   "cell_type": "code",
   "execution_count": 9,
   "metadata": {},
   "outputs": [
    {
     "name": "stdout",
     "output_type": "stream",
     "text": [
      "1750\n"
     ]
    }
   ],
   "source": [
    "def decToHex(dec):\n",
    "    octal = \"\";\n",
    "    while(dec != 0):\n",
    "        octal= str(dec%8) + octal;\n",
    "        dec = int(dec/8);\n",
    "    return octal;\n",
    "\n",
    "print(decToHex(1000));\n"
   ]
  },
  {
   "cell_type": "markdown",
   "metadata": {},
   "source": [
    "<h1>Octal To Decimal</h1>"
   ]
  },
  {
   "cell_type": "code",
   "execution_count": 11,
   "metadata": {},
   "outputs": [
    {
     "name": "stdout",
     "output_type": "stream",
     "text": [
      "585\n"
     ]
    }
   ],
   "source": [
    "def octalToDec(octal):\n",
    "    dec = 0;\n",
    "    octal = str(octal);\n",
    "    for i in range(len(octal)):\n",
    "        dec += int(octal[i])*(8**(len(octal)-1-i));\n",
    "    return dec;\n",
    "\n",
    "print(octalToDec(1111));"
   ]
  }
 ],
 "metadata": {
  "kernelspec": {
   "display_name": "Python 3",
   "language": "python",
   "name": "python3"
  },
  "language_info": {
   "codemirror_mode": {
    "name": "ipython",
    "version": 3
   },
   "file_extension": ".py",
   "mimetype": "text/x-python",
   "name": "python",
   "nbconvert_exporter": "python",
   "pygments_lexer": "ipython3",
   "version": "3.10.12"
  },
  "orig_nbformat": 4
 },
 "nbformat": 4,
 "nbformat_minor": 2
}
