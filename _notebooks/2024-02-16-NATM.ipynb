{
 "cells": [
  {
   "cell_type": "markdown",
   "metadata": {},
   "source": [
    "---\n",
    "# toc: true\n",
    "comments: true\n",
    "layout: post\n",
    "title: CB MCQ\n",
    "type: hacks\n",
    "courses: { compsci: {week: 21} }\n",
    "---"
   ]
  },
  {
   "cell_type": "markdown",
   "metadata": {},
   "source": [
    "Capture the moment\n",
    "Provide a link to your Blog containing the following\n",
    "\n",
    "## Blog / article on you and team\n",
    "<img src=\"/yeongsuk/images/natm.png\">\n",
    "For our group, we had a project in which we worked to create a youtube-like, video streaming service. To implement this, we divided the site into several basic functions. First, we implemented the feature in which the backend actually stores the mp4s and each video's thumbnail. Next, with a set of initiated videos, we tested working out the frontend so that the home page displays all the videos by doing a get request from the backend. Next, we worked to improve the frontend by implementing genres, search function, video layout, and the upload function. The upload function was probably the most laborious aspect of the project as we needed to figure out how to implement it in a way that allows for the posting of large files such as the video. \n",
    "### reflection on glows/grows from your demo,\n",
    "From my demos, we were able to demo a lot of our functions. I think the demo was a good experience as it allowed me to see things I can improve on. Also, it allowed me to recognize possible additions that can be really good for the theme of our project. \n",
    "### from feedback, something you will add to individual CPT project\n",
    "For our CPT project, I would like to add more features and functionalities by adding a comment section for each video, adding like/dislike for each video, and adding other features like an update function for each video (title, description)\n",
    "### visuals or pics of team and people you talked\n",
    "## Blog on event\n",
    "\n",
    "### something you saw in CompSci that impressed\n",
    "I was impressed with the creativity and originality of all of the projects. For example, someone's project involved a game in which they were able to cook and bake. Not only was the creativity of the projects impressive, I was impressed with the implementation of the projects. \n",
    "### something you saw outside of CompSci that you liked\n",
    "The overall organization and ecstatic energy during N@M was super impressive. As well as the number of enthusiastic parents who were very engaged with the projects. "
   ]
  }
 ],
 "metadata": {
  "language_info": {
   "name": "python"
  }
 },
 "nbformat": 4,
 "nbformat_minor": 2
}
