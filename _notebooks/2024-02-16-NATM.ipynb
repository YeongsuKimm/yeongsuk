{
 "cells": [
  {
   "cell_type": "markdown",
   "metadata": {},
   "source": [
    "---\n",
    "# toc: true\n",
    "comments: true\n",
    "layout: post\n",
    "title: CB MCQ\n",
    "type: hacks\n",
    "courses: { compsci: {week: 1} }\n",
    "---"
   ]
  },
  {
   "cell_type": "markdown",
   "metadata": {},
   "source": [
    "Capture the moment\n",
    "Provide a link to your Blog containing the following\n",
    "\n",
    "Blog / article on you and team\n",
    "\n",
    "reflection on glows/grows from your demo,\n",
    "from feedback, something you will add to individual CPT project\n",
    "visuals or pics of team and people you talked\n",
    "Blog on event\n",
    "\n",
    "something you saw in CompSci that impressed\n",
    "something you saw outside of CompSci that you liked"
   ]
  }
 ],
 "metadata": {
  "language_info": {
   "name": "python"
  }
 },
 "nbformat": 4,
 "nbformat_minor": 2
}
