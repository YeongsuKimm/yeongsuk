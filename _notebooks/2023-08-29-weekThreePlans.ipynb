{
 "cells": [
  {
   "cell_type": "markdown",
   "metadata": {},
   "source": [
    "---\n",
    "# toc: true\n",
    "comments: false\n",
    "layout: default\n",
    "title: Week 3 Plans\n",
    "type: plans \n",
    "courses: { compsci: {week: 3} }\n",
    "---"
   ]
  },
  {
   "cell_type": "markdown",
   "metadata": {},
   "source": [
    "<h1>Week 3 Plans</h1>\n",
    "\n",
    "- Add a new project. (Preferably Chess) - The HTML and JS will be pulled from an internet source. The CSS and some parts of the logic of the game (en passant)\n",
    "- Implement Flask and Linux shell. This can be done through collaboration where one person does Flask and the other works on Linux. \n",
    "- Add javascript code to display a to-do list plan on the homepage. \n",
    "- Add keyboard interface to existing or new games/projects. (tic tac toe, calculator, chess, etc...)\n",
    "\n",
    "> Tuesday:\n",
    "- Create a plan for the week.\n",
    "\n",
    "> Wednesday\n",
    "- Start working on the plans. (The new game)\n",
    "\n",
    "> Thursday:\n",
    "- a\n",
    "\n",
    "> Friday:\n",
    "- a"
   ]
  }
 ],
 "metadata": {
  "kernelspec": {
   "display_name": "Python 3 (ipykernel)",
   "language": "python",
   "name": "python3"
  },
  "language_info": {
   "codemirror_mode": {
    "name": "ipython",
    "version": 3
   },
   "file_extension": ".py",
   "mimetype": "text/x-python",
   "name": "python",
   "nbconvert_exporter": "python",
   "pygments_lexer": "ipython3",
   "version": "3.10.12"
  }
 },
 "nbformat": 4,
 "nbformat_minor": 2
}
