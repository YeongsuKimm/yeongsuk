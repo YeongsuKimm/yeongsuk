{
 "cells": [
  {
   "cell_type": "markdown",
   "metadata": {},
   "source": [
    "---\n",
    "# toc: true\n",
    "comments: false\n",
    "layout: default\n",
    "title: College Board Exam Questions\n",
    "type: tangibles\n",
    "courses: { compsci: {week: 7} }\n",
    "---"
   ]
  },
  {
   "cell_type": "markdown",
   "metadata": {},
   "source": [
    "> Question 17\n",
    "- What does it mean when it says \"digital divide\"?\n",
    "- - The term \"digital divide\" refers to the gap or disparity in access to and use of digital technologies, such as the internet and digital devices, between different groups or communities. This divide can be based on various factors, including socioeconomic status, geographic location, age, education, and other demographics.\n",
    "- - I chose all the options as they all sounded plausible to be true of reducing digital divide\n",
    "\n",
    "> Question 23\n",
    "- What is redundant rerouting?\n",
    "- - Redundant routing, also known as network redundancy or routing redundancy, is a networking concept that involves the creation of multiple network paths or routes between devices or network segments. The primary purpose of redundant routing is to enhance network reliability, fault tolerance, and availability by providing alternative paths for data to travel in case of network failures or congestion. Redundant routing can be particularly important in critical or high-availability network environments to minimize downtime and ensure continuous network operation.\n",
    "- For the question, I put C as my answer which connects P and S in several different ways. I put this because I thought it meant that it could connect it through different pathways.\n",
    "- The correct answer was B, which connects P to S in only way optional path.\n",
    "- I understand now because redundant rerouting has the purpose of providing one path between each.\n",
    "\n",
    "> Question 37\n",
    "- Comparing code segments to compute average from list\n",
    "- I got this wrong because I thought program II was unable to provide the intended functionality. It seemed impossible to find the value of the average using that mathematical process.\n",
    "- But after testing the process with different number values, I have concluded that this method of solving for the average is a possible one.\n",
    "- So the answer should be that both segments work perfectly fine. \n",
    "- But the first option requires more arithmetic processes as it does a calculation every iteration of the while loop. Essentially double the calculations \n",
    "\n",
    "> Question 46\n",
    "-  Infinite loops in undecideable problems\n",
    "- The answer is A because it is quite impossible to develop a single purpose code that solves all problems or errors that it may encounter when taking in input values.\n",
    "- I chose A at first because I thought it would be able to determine a way to solve the problem somehow\n",
    "\n",
    "> Question 47 \n",
    "- Encrypting and decrypting using public key cryptography\n",
    "- I wasn't sure what cryptography was\n",
    "- Cryptography: Cryptography is the science and practice of securing communication and information through the use of codes and ciphers. It is a fundamental technology for protecting data and ensuring the confidentiality, integrity, and authenticity of information in various applications, including secure communication, data storage, and authentication. Cryptography has a long history and plays a crucial role in modern digital security.\n",
    "- The answer is D because in public cryptography, a message is encrypted with a recipient’s public key and decrypted with the recipient’s private key\n",
    "- I chose the sender's private key as I thought it would be necessary.\n",
    "- The choice is wrong because the sender’s private key cannot be used to decrypt the message.\n",
    "\n",
    "> Question 64\n",
    "- Cloud computing and the Internet\n",
    "- Cloud Computing: Cloud computing refers to the delivery of computing services, including storage, processing, networking, and software applications, over the internet. Instead of organizations or individuals managing their own physical servers and infrastructure, they can access and use these resources on a pay-as-you-go basis from cloud service providers. \n",
    "- Internet: The internet is a global network of interconnected computer networks. It allows the exchange of data and information between devices and users worldwide. The internet is a vast infrastructure that enables various services and activities, including communication, information sharing, e-commerce, and much more.\n",
    "- I chose option D, which is wrong. It is wrong because cloud storage sites allow users to share files easily, which could lead to increased concerns about copyrighted materials being illegally distributed online. So basically it is counterintuitive\n",
    "- The correct option is B because cloud computing has more easily available sharing, communicating, and collaborating between users.\n",
    "- Easier way to share files and tools\n",
    "\n",
    "\n",
    "> Question 65 \n",
    "- Correcting errors in procedure Multiply\n",
    "- I chose A, which is incorrect because if x and y are both positive, the procedure will correctly calculate the product by adding x to itself y times.\n",
    "- The correct option is D because if y is negative, then the condition count equals y will never be met since count begins at 0 and repeatedly increases.\n",
    "- I got this wrong due to the lack of predicting the outcome of program."
   ]
  }
 ],
 "metadata": {
  "language_info": {
   "name": "python"
  }
 },
 "nbformat": 4,
 "nbformat_minor": 2
}
