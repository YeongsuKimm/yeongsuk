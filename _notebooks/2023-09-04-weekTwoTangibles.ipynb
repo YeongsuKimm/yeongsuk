{
 "cells": [
  {
   "cell_type": "markdown",
   "metadata": {},
   "source": [
    "---\n",
    "# toc: true\n",
    "comments: false\n",
    "layout: default\n",
    "title: Week 2 Tangibles\n",
    "type: tangibles \n",
    "courses: { compsci: {week: 2} }\n",
    "---"
   ]
  },
  {
   "cell_type": "markdown",
   "metadata": {},
   "source": [
    "<h1>Week 2 Tangibles</h1>\n",
    "\n",
    "> Monday: \n",
    "- Created a python quiz using python programming. \n",
    "- Added the quiz as a post to the time box.\n",
    "\n",
    "> Tuesday:\n",
    "- Started to add sections for the time box of previous weeks.\n",
    "- Updated errors I encountered during work to the blogs page.\n",
    "\n",
    "> Wednesday:\n",
    "- Added a games/projects page as a subsection of the website to add personal projects. \n",
    "- Worked on the jquery table to add statistics about an interest I have.\n",
    "\n",
    "> Thursday:\n",
    "- Made final changes to the overall theme of the website. \n",
    "- Added a profile picture to the website.\n",
    "- Added the game of life and the snake game.\n",
    "\n",
    "> Friday:\n",
    "- Added a tic tac toe game.\n",
    "- Added a word guessing game.\n",
    "- Finished adding data to the jquery table. \n",
    "- Got all plans and tangibles up to date.\n",
    "\n",
    "> Week takeaways\n",
    "- Became more familiar with using Jupyter notebook to add posts. \n",
    "- Learned to make overriding changes to the theme.\n",
    "- Started to use python to make repetitive code more convenient. \n",
    "- Learned how to use external material to create things like the jquery table. \n"
   ]
  }
 ],
 "metadata": {
  "language_info": {
   "name": "python"
  },
  "orig_nbformat": 4
 },
 "nbformat": 4,
 "nbformat_minor": 2
}
