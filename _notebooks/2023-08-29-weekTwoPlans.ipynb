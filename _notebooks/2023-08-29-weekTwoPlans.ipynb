{
 "cells": [
  {
   "cell_type": "markdown",
   "metadata": {},
   "source": [
    "---\n",
    "toc: true\n",
    "comments: false\n",
    "layout: post\n",
    "title: Week 2 Plans\n",
    "type: plans \n",
    "courses: { compsci: {week: 2} }\n",
    "---"
   ]
  },
  {
   "cell_type": "markdown",
   "metadata": {},
   "source": [
    "<h1>Week 2 Plans</h1>\n",
    "\n",
    "> Things to do:\n",
    "- Create custom theme for the page.\n",
    "- Add several different games to the games page.\n",
    "- Get github pages functioning properly\n",
    "\n",
    "> Monday: \n",
    "- Build the python quiz.\n",
    "\n",
    "> Tuesday:\n",
    "- Create lab notebook table.\n",
    "\n",
    "> Wednesday:\n",
    "- a\n",
    "\n",
    "> Thursday:\n",
    "- a\n",
    "\n",
    "> Friday:\n",
    "- a"
   ]
  }
 ],
 "metadata": {
  "kernelspec": {
   "display_name": "Python 3 (ipykernel)",
   "language": "python",
   "name": "python3"
  },
  "language_info": {
   "codemirror_mode": {
    "name": "ipython",
    "version": 3
   },
   "file_extension": ".py",
   "mimetype": "text/x-python",
   "name": "python",
   "nbconvert_exporter": "python",
   "pygments_lexer": "ipython3",
   "version": "3.10.12"
  }
 },
 "nbformat": 4,
 "nbformat_minor": 2
}
