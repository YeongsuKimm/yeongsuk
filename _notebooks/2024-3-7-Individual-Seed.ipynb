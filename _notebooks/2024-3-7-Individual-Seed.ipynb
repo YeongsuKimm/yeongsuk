{
 "cells": [
  {
   "cell_type": "markdown",
   "metadata": {},
   "source": [
    "---\n",
    "toc: true\n",
    "comments: true\n",
    "layout: post\n",
    "title: Individual Seed\n",
    "description: Starting seed that is related to us as individuals\n",
    "type: hacks\n",
    "courses: { csp: {week: 1} }\n",
    "---\n"
   ]
  },
  {
   "cell_type": "markdown",
   "metadata": {},
   "source": [
    "# Requirements\n",
    "- Exceptional achievement.  93% or better in last trimester of CompSci.\n",
    "94.4\n",
    "<img src=\"/yeongsuk/images/csp.png\">\n",
    "- Exemplar in Team work. \n",
    "> In trimester 2, I would collaborate with my group to create ideas and plans for our future plans. For example, before creating our CPT project, we had a brainstorm session in which we briefly discussed the features that we all wanted for the site. Along with that, we all collaborated to pick a theme that we felt best fit our project. However, apart from my own group, I would sometimes help out other groups even outside of our period. For example, I helped someone with an issue in which they were having problems with the JWT token. In terms of learning, I particularly enjoyed looking around the different NATM projects that other people made. It was interesting to learn about the different creative ideas that each group had for their own project and their own ways of planning/coordinating the execution of their plan. \n",
    "\n",
    "# Progress\n",
    "- [Practice MCQ Review 1](https://yeongsukimm.github.io/yeongsuk//2023/11/01/CBExamQuestions_IPYNB_2_.html)\n",
    "- [Practice MCQ Review 2](https://yeongsukimm.github.io/yeongsuk//2023/12/21/collegeBoard_IPYNB_2_.html)\n",
    "- [Github Analytics for CPT Frontend](https://github.com/Napoleon-Bonaparte-Official/corsica-frontend/graphs/contributors)\n",
    "- [Commit 1: Created initial structure for the video](https://github.com/Napoleon-Bonaparte-Official/corsica-frontend/commit/bcb3ccd16eb0010ea9a5a301f395cc77c898d704)\n",
    "- [Commit 2: Modified frontend video structure to fit with the backend requests and etc…](https://github.com/Napoleon-Bonaparte-Official/corsica-frontend/commit/983878d3549ac2cfecd5da3e37205be63abddd30)\n",
    "- [Commit 3: Added Genres to the frontend](https://github.com/Napoleon-Bonaparte-Official/corsica-frontend/commit/1e3226c1f394c41a6abfc0d7b3b0e593953f95cb)\n",
    "- [Individual CPT Final](https://yeongsukimm.github.io/yeongsuk//2024/02/25/indi-CPT-Review_IPYNB_2_.html)\n",
    "- [First Iteration of Videos](https://github.com/Napoleon-Bonaparte-Official/corsica-backend/commit/f3b8d3fff3531118765f6702bef850bcdc3b7996) to [Video ID Reading](https://github.com/Napoleon-Bonaparte-Official/corsica-backend/commit/73837056c97a24dae4919947e12781653c1bad91)\n",
    "- [Checklist for CPT Features](https://github.com/Napoleon-Bonaparte-Official/corsica-blog/issues/3)\n",
    "- \n"
   ]
  },
  {
   "cell_type": "markdown",
   "metadata": {},
   "source": []
  }
 ],
 "metadata": {
  "kernelspec": {
   "display_name": "Python 3",
   "language": "python",
   "name": "python3"
  },
  "language_info": {
   "codemirror_mode": {
    "name": "ipython",
    "version": 3
   },
   "file_extension": ".py",
   "mimetype": "text/x-python",
   "name": "python",
   "nbconvert_exporter": "python",
   "pygments_lexer": "ipython3",
   "version": "3.11.7"
  }
 },
 "nbformat": 4,
 "nbformat_minor": 2
}
