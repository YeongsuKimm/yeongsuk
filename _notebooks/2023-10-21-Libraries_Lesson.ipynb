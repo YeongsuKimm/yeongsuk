{
 "cells": [
  {
   "cell_type": "markdown",
   "metadata": {},
   "source": [
    "---\n",
    "toc: true\n",
    "comments: false\n",
    "layout: post\n",
    "title: Libraries\n",
    "description: 3.14 Libraries\n",
    "type: hacks\n",
    "courses: { compsci: {week: 10} } #10\n",
    "---"
   ]
  },
  {
   "cell_type": "markdown",
   "metadata": {},
   "source": [
    "<h1>3.14 Libraries</h1>\n",
    "A file that contains procedures that can be used in a program is called a library. An Application Program Interface, or API, contains specifications for how the procedures in a library behave and can be used. It allows the imported procedures from the library to interact with the rest of your code.\n",
    "<h2>Types of Libraries</h2>\n",
    "There are many types of libraries that modern day companies use, such as Requests, Pillow, Pandas, NumPy, SciKit-Learn, TensorFlow, and Matplotlib. Requests: The Requests library simplifies making HTTP requests in Python, making it easy to interact with web services and retrieve data from websites.\n",
    "\n",
    "Pandas: Pandas is a data manipulation and analysis library for efficiently working with structured data, including data import, cleaning, transformation, and analysis in tabular form.\n",
    "\n",
    "Scikit-Learn: Scikit-Learn is a machine learning library that offers simple and efficient tools for data analysis and modeling, including classification, regression, and clustering.\n",
    "\n",
    "TensorFlow: TensorFlow is an open-source machine learning framework that facilitates deep learning and neural network development, supporting tasks like image recognition and natural language processing.\n",
    "\n",
    "Matplotlib: Matplotlib is a versatile plotting library for creating 2D and 3D visualizations and figures in Python, enabling a wide range of plots, charts, and graphs for data visualization and analysis. \n",
    "\n",
    "Libraries are, at their heart, a collection of other people's code, and it would be difficult to understand how the procedures should be used without documentation. APIs explain how two separate pieces of software interact with each other, and they also need documentation to keep this communication going.  \n"
   ]
  },
  {
   "cell_type": "markdown",
   "metadata": {},
   "source": [
    "<h2>Popcorn Hack 1</h2>\n",
    "We have now hopefully all done or seen this type of question about getting a robot from point a to point b. But this can be very tedious because it may take a lot of code to do that. Luckily, there’s a saving grace called procedures, procedures essentially shorten the amount of code that is needed. So for a robot example we have displayed, we will use the procedure “moveBackwards” to shorten the amount of code we would normally need. This will rotate our triangle 180 degrees. Here is the example and solution\n",
    "![]({{site.baseurl}}/images/robotexample.png)\n",
    "![]({{site.baseurl}}/images/solutionrobot.png)"
   ]
  },
  {
   "cell_type": "code",
   "execution_count": null,
   "metadata": {},
   "outputs": [],
   "source": [
    "#Code goes here\n",
    "no image available  "
   ]
  },
  {
   "cell_type": "markdown",
   "metadata": {},
   "source": [
    "Pillow: Pillow is a powerful image processing library for opening, manipulating, and saving various image formats in Python."
   ]
  },
  {
   "cell_type": "code",
   "execution_count": null,
   "metadata": {},
   "outputs": [],
   "source": [
    "from PIL import Image\n",
    "\n",
    "# Example usage:\n",
    "image = Image.open('/home/lincolnc2008/vscode/student3/images/frog-game.jpg')#This is the path of the image\n",
    "image.show()"
   ]
  },
  {
   "cell_type": "markdown",
   "metadata": {},
   "source": [
    "from PIL import Image:\n",
    "\n",
    "This line imports the Image module from the PIL library. PIL stands for Python Imaging Library, which is used for opening, manipulating, and saving image files.\n",
    "\n",
    "image = Image.open('/home/lincolnc2008/vscode/student3/images/frog-game.jpg'):\n",
    "\n",
    "This line opens an image file named '/home/lincolnc2008/vscode/student3/images/frog-game.jpg' using the Image.open() method. It creates an Image object and assigns it to the variable image.\n",
    "\n",
    "image.show():\n",
    "\n",
    "This line displays the image using the show() method. This will open the default image viewer on your system and display the image."
   ]
  },
  {
   "cell_type": "markdown",
   "metadata": {},
   "source": [
    "### Popcorn Hack 2\n",
    "Do this same thing but with a different image. Make it personallized!"
   ]
  },
  {
   "cell_type": "code",
   "execution_count": null,
   "metadata": {},
   "outputs": [],
   "source": [
    "# Code goes here\n",
    "from PIL import Image\n",
    "\n",
    "# Example usage:\n",
    "image = Image.open('/home/yeongsu/vscode/yeongsuk/images/dog.jpg')#This is the path of the image\n",
    "image.show()"
   ]
  },
  {
   "cell_type": "markdown",
   "metadata": {},
   "source": [
    "<img src=\"/home/yeongsu/vscode/yeongsuk/images/dog.jpg\">"
   ]
  },
  {
   "cell_type": "markdown",
   "metadata": {},
   "source": [
    "NumPy: NumPy is a fundamental library for numerical computing in Python, providing support for multidimensional arrays and a wide range of mathematical functions."
   ]
  },
  {
   "cell_type": "code",
   "execution_count": null,
   "metadata": {},
   "outputs": [],
   "source": [
    "import numpy as np\n",
    "\n",
    "# Example usage:\n",
    "arr = np.array([1, 2, 3, 4, 5])\n",
    "print(arr)"
   ]
  },
  {
   "cell_type": "markdown",
   "metadata": {},
   "source": [
    "import numpy as np:\n",
    "\n",
    "This line imports the Numpy library with the alias np. Numpy is a powerful library in Python for numerical computations, particularly with arrays and matrices.\n",
    "\n",
    "arr = np.array([1, 2, 3, 4, 5]):\n",
    "\n",
    "This line creates a Numpy array named arr using the np.array() function. The array is initialized with the values [1, 2, 3, 4, 5].\n",
    "\n",
    "print(arr):\n",
    "\n",
    "This line prints the array arr to the console"
   ]
  },
  {
   "cell_type": "markdown",
   "metadata": {},
   "source": [
    "## Popcorn Hack 3\n",
    "You are given two 1-dimensional Numpy arrays, A and B, of the same length. Perform the following element-wise operations and return the results:\n",
    "\n",
    "Add each element of array A to the corresponding element of array B.\n",
    "Multiply each element of array A by the corresponding element of array B.\n",
    "Square each element of array A."
   ]
  },
  {
   "cell_type": "code",
   "execution_count": 7,
   "metadata": {},
   "outputs": [
    {
     "name": "stdout",
     "output_type": "stream",
     "text": [
      "[ 1764  3969  7744 13689 22500]\n"
     ]
    }
   ],
   "source": [
    "import numpy as np\n",
    "\n",
    "A = np.array([1, 2, 3, 4, 5])\n",
    "B = np.array([6, 7, 8, 9, 10])\n",
    "A = np.add(A, B)\n",
    "A = np.multiply(A, B)\n",
    "A = np.square(A)\n",
    "print(A)\n"
   ]
  },
  {
   "cell_type": "code",
   "execution_count": null,
   "metadata": {},
   "outputs": [],
   "source": [
    "import matplotlib.pyplot as plt\n",
    "\n",
    "# Example usage:\n",
    "x = np.linspace(0, 10, 100)\n",
    "y = np.sin(x)\n",
    "plt.plot(x, y)\n",
    "plt.show()"
   ]
  },
  {
   "cell_type": "markdown",
   "metadata": {},
   "source": [
    "import matplotlib.pyplot as plt:\n",
    "\n",
    "This line imports the pyplot module from the Matplotlib library with the alias plt. Matplotlib is a powerful library in Python for creating visualizations and plots.\n",
    "\n",
    "x = np.linspace(0, 10, 100)\n",
    "y = np.sin(x):\n",
    "\n",
    "These lines create two Numpy arrays x and y. x is generated using np.linspace() which creates an array of 100 equally spaced points between 0 and 10. y is generated by taking the sine of each element in x.\n",
    "\n",
    "plt.plot(x, y):\n",
    "\n",
    "This line creates a line plot using the plot() function from Matplotlib. It takes x and y as the data for the x and y coordinates of the plot.\n",
    "\n",
    "plt.show():\n",
    "\n",
    "This line displays the plot using the show() function. It opens a window with the generated plot."
   ]
  },
  {
   "cell_type": "markdown",
   "metadata": {},
   "source": [
    "## Popcorn Hack 4\n",
    "You have a dataset representing the monthly sales of a company over a year. The data is provided as two lists: months (containing the names of the months) and sales (containing the corresponding sales figures).\n",
    "\n",
    "Your task is to create a bar chart to visualize the monthly sales.\n",
    "\n",
    "Write a Python function that takes the lists months and sales as input and generates a bar chart using Matplotlib. The function should also label the x-axis with the months and the y-axis with \"Sales (in thousands)\"."
   ]
  },
  {
   "cell_type": "code",
   "execution_count": null,
   "metadata": {},
   "outputs": [],
   "source": [
    "# Code goes here\n",
    "months = ['Jan', 'Feb', 'Mar', 'Apr', 'May', 'Jun', 'Jul', 'Aug', 'Sep', 'Oct', 'Nov', 'Dec']\n",
    "sales = [150, 170, 190, 200, 220, 250, 280, 300, 280, 250, 230, 190]"
   ]
  },
  {
   "cell_type": "markdown",
   "metadata": {},
   "source": [
    "<h1>Optional Popcorn Hack</h1>\n",
    "Now for extra credit, create a program(s) using all the libraries we provided (Pillow, NumPy, TensorFlow, etc). Try showing a basic understanding of how to use each one of these libraries. Try doing something fun or creative!"
   ]
  },
  {
   "cell_type": "code",
   "execution_count": 4,
   "metadata": {},
   "outputs": [
    {
     "name": "stdout",
     "output_type": "stream",
     "text": [
      "1\n",
      "2\n",
      "3\n",
      "4\n",
      "5\n"
     ]
    }
   ],
   "source": [
    "import tensorflow as tf\n",
    "import numpy as np\n",
    "from PIL import Image\n",
    "\n",
    "nums = np.array([1, 2, 3, 4, 5])\n",
    "\n",
    "def compressImage(nums):\n",
    "    for i in range(len(nums)):\n",
    "        print(nums[i])\n",
    "    original_image = Image.open(\"/home/yeongsu/vscode/yeongsuk/images/dog.jpg\")\n",
    "    compressed = original_image.copy()\n",
    "    compressed.thumbnail((200, 200))\n",
    "    compressed.save(\"/home/yeongsu/vscode/yeongsuk/images/compressed_dog.jpg\")\n",
    "    \n",
    "compressImage(nums)\n"
   ]
  },
  {
   "cell_type": "markdown",
   "metadata": {},
   "source": [
    "<h1>ORIGINAL</h1>\n",
    "<img src = \"/home/yeongsu/vscode/yeongsuk/images/dog.jpg\">\n",
    "<h1>RESIZED </h1>\n",
    "<img src = \"/home/yeongsu/vscode/yeongsuk/images/compressed_dog.jpg\">"
   ]
  },
  {
   "cell_type": "markdown",
   "metadata": {},
   "source": [
    "<h1>Homework!</h1>\n",
    "For our homework hack, Write a Python program that uses the NumPy library to generate an array of values for the sine and cosine functions over a specified range, and then use Matplotlib to create a plot that shows both functions on the same graph. The program should:\n",
    "Import the necessary libraries (NumPy and Matplotlib).\n",
    "Define a range of angles in degrees, e.g., from 0 to 360 degrees.\n",
    "Use NumPy to calculate the sine and cosine values for each angle in the range.\n",
    "Create a Matplotlib plot with the angles on the x-axis and the sine and cosine values on the y-axis.\n",
    "Label the plot with appropriate titles, axis labels, and a legend.\n",
    "Display the plot on the screen.\n",
    "\n",
    "\n",
    "\n",
    "\n",
    "\n",
    "\n",
    "\n"
   ]
  },
  {
   "cell_type": "code",
   "execution_count": 1,
   "metadata": {},
   "outputs": [
    {
     "data": {
      "image/png": "[encoded data removed]",
      "text/plain": [
       "<Figure size 576x432 with 1 Axes>"
      ]
     },
     "metadata": {
      "needs_background": "light"
     },
     "output_type": "display_data"
    }
   ],
   "source": [
    "# Code goes here\n",
    "\n",
    "import numpy as np\n",
    "import matplotlib.pyplot as plt\n",
    "\n",
    "angles_degrees = np.arange(0, 361, 10) \n",
    "angles_radians = np.deg2rad(angles_degrees)\n",
    "\n",
    "sine_values = np.sin(angles_radians)\n",
    "cosine_values = np.cos(angles_radians)\n",
    "\n",
    "plt.figure(figsize=(8, 6)) \n",
    "\n",
    "plt.plot(angles_degrees, sine_values, label='sin(x)', color='blue')\n",
    "plt.plot(angles_degrees, cosine_values, label='cos(x)', color='red')\n",
    "\n",
    "plt.title('Sine and Cosine Functions')\n",
    "plt.xlabel('Angle (degrees)')\n",
    "plt.ylabel('Value')\n",
    "plt.legend()  \n",
    "\n",
    "plt.grid(True)  \n",
    "plt.show()\n"
   ]
  },
  {
   "cell_type": "markdown",
   "metadata": {},
   "source": [
    "<h1>Thank You!</h1>"
   ]
  }
 ],
 "metadata": {
  "kernelspec": {
   "display_name": "Python 3",
   "language": "python",
   "name": "python3"
  },
  "language_info": {
   "codemirror_mode": {
    "name": "ipython",
    "version": 3
   },
   "file_extension": ".py",
   "mimetype": "text/x-python",
   "name": "python",
   "nbconvert_exporter": "python",
   "pygments_lexer": "ipython3",
   "version": "3.10.12"
  },
  "orig_nbformat": 4
 },
 "nbformat": 4,
 "nbformat_minor": 2
}
