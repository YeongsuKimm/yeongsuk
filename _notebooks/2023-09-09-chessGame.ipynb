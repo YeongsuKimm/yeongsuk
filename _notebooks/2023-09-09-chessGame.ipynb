{
 "cells": [
  {
   "cell_type": "markdown",
   "metadata": {},
   "source": [
    "---\n",
    "comments: False\n",
    "layout: default\n",
    "title: Chess Game\n",
    "type: hacks\n",
    "courses: {'compsci': {'week': 3}}\n",
    "---"
   ]
  },
  {
   "cell_type": "markdown",
   "metadata": {},
   "source": [
    "<div style=\"font-size:200%; text-align:center; top:40%\">\n",
    "    <a align=\"center\" href=\"/yeongsuk/CHESS/chess.html\">CLICK HERE TO GO TO CHESS</a>\n",
    "</div>"
   ]
  }
 ],
 "metadata": {
  "language_info": {
   "name": "python"
  },
  "orig_nbformat": 4
 },
 "nbformat": 4,
 "nbformat_minor": 2
}
