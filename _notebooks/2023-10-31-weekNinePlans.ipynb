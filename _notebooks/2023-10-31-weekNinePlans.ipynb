{
 "cells": [
  {
   "cell_type": "markdown",
   "metadata": {},
   "source": [
    "---\n",
    "# toc: true\n",
    "comments: false\n",
    "layout: default\n",
    "title: Week 9 Plans\n",
    "type: plans \n",
    "courses: { compsci: {week: 9} }\n",
    "---"
   ]
  },
  {
   "cell_type": "markdown",
   "metadata": {},
   "source": [
    "<h1>Week 9 Plans</h1>\n",
    "- Developing algorithms (collegeboard)\n",
    "- Learned about how to develop algorithms\n",
    "- Learned about APIs and started to find ways to organize and use data in our backend of the passion project\n",
    "- Lists and search (collegeboard)\n",
    "- Learned about how lists can be used to organize data and how certain search algorithms can be used to search for certain data\n",
    "- Learned about OOP and how it can create instances out of itself."
   ]
  }
 ],
 "metadata": {
  "language_info": {
   "name": "python"
  }
 },
 "nbformat": 4,
 "nbformat_minor": 2
}
