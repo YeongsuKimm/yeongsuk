{
 "cells": [
  {
   "cell_type": "markdown",
   "metadata": {},
   "source": [
    "---\n",
    "# toc: true\n",
    "comments: false\n",
    "layout: default\n",
    "title: Week 4 Plans\n",
    "type: plans \n",
    "courses: { compsci: {week: 4} }\n",
    "---"
   ]
  },
  {
   "cell_type": "markdown",
   "metadata": {},
   "source": [
    "<h1>Week 4 Plans</h1>\n",
    "\n",
    "- Learn about data types, lists, dictionaries\n",
    "- Learn how to debug while coding\n",
    "- Agile methodology\n",
    "- Assign roles for the upcoming projects like the passion project.\n",
    "- Ensure that everyone is comfortable with their positions"
   ]
  }
 ],
 "metadata": {
  "language_info": {
   "name": "python"
  }
 },
 "nbformat": 4,
 "nbformat_minor": 2
}
