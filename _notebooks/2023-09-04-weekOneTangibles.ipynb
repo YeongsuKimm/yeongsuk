{
 "cells": [
  {
   "cell_type": "markdown",
   "metadata": {},
   "source": [
    "---\n",
    "# toc: true\n",
    "comments: false\n",
    "layout: default\n",
    "title: Week 1 Tangibles\n",
    "type: tangibles\n",
    "courses: { compsci: {week: 1} }\n",
    "---"
   ]
  },
  {
   "cell_type": "markdown",
   "metadata": {},
   "source": [
    "<h1>Week 1 Tangibles</h1>\n",
    "\n",
    "> Monday: \n",
    "- Created a blog section where I updated some errors which I ran into while making the site.\n",
    "- Embedded a youtube video onto the homepage. \n",
    "\n",
    "> Tuesday:\n",
    "- Created a notepad which asks the user for an input and displays it at the bottom of the screen. \n",
    "- Started experimenting with different themes.\n",
    "\n",
    "> Wednesday:\n",
    "- Created a calculator.\n",
    "- Customized the calculator to match the theme of the overall site.\n",
    "\n",
    "> Thursday:\n",
    "- Updated more items to the errors section of the blogs tab.\n",
    "- Added a button on the landing page to different useful sites.(slack, canvas, schedule)\n",
    "\n",
    "> Friday:\n",
    "- Learned how to use and launch jupyter notebook.\n",
    "- Learned about the uses for jupyter notebook.\n",
    "- Learned how to make posts appear on the main site.\n",
    "\n",
    "> Week takeaways\n",
    "- Learned how to use CSS in order to customize the overall look/theme of the site.\n",
    "- Learned how to use outside sources to add games or projects to my website. \n",
    "- Learned to use JS in order to make functions that do what I want a button to do when pressed. \n",
    "- Became familiar with using jupyter notebook, HTML, and CSS."
   ]
  }
 ],
 "metadata": {
  "language_info": {
   "name": "python"
  },
  "orig_nbformat": 4
 },
 "nbformat": 4,
 "nbformat_minor": 2
}
