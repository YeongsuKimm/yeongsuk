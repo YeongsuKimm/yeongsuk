{
 "cells": [
  {
   "cell_type": "markdown",
   "metadata": {},
   "source": [
    "---\n",
    "toc: true\n",
    "comments: false\n",
    "layout: default\n",
    "title: Week 1 Plans\n",
    "type: plans \n",
    "courses: { compsci: {week: 1} }\n",
    "---"
   ]
  },
  {
   "cell_type": "markdown",
   "metadata": {},
   "source": [
    "<h1>Week 1 Plans</h1>\n",
    "\n",
    "> Monday: \n",
    "- Added images to the homepage\n",
    "\n",
    "> Tuesday:\n",
    "- Implemented the notepad feature on the home page\n",
    "\n",
    "> Wednesday:\n",
    "- Added the calculator on the homepage\n",
    "\n",
    "> Thursday:\n",
    "- Listed present errors on blogs page\n",
    "\n",
    "> Friday:\n",
    "- Started using jupyter notebook\n"
   ]
  }
 ],
 "metadata": {
  "language_info": {
   "name": "python"
  },
  "orig_nbformat": 4
 },
 "nbformat": 4,
 "nbformat_minor": 2
}
