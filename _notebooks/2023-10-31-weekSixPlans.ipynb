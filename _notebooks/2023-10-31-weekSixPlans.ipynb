{
 "cells": [
  {
   "cell_type": "markdown",
   "metadata": {},
   "source": [
    "---\n",
    "# toc: true\n",
    "comments: false\n",
    "layout: default\n",
    "title: Week 6 Plans\n",
    "type: plans \n",
    "courses: { compsci: {week: 6} }\n",
    "---"
   ]
  }
 ],
 "metadata": {
  "language_info": {
   "name": "python"
  }
 },
 "nbformat": 4,
 "nbformat_minor": 2
}
