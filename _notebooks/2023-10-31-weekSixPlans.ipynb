{
 "cells": [
  {
   "cell_type": "markdown",
   "metadata": {},
   "source": [
    "---\n",
    "# toc: true\n",
    "comments: false\n",
    "layout: default\n",
    "title: Week 6 Plans\n",
    "type: plans \n",
    "courses: { compsci: {week: 6} }\n",
    "---"
   ]
  },
  {
   "cell_type": "markdown",
   "metadata": {},
   "source": [
    "<h1>Week 6 Plans</h1>\n",
    "- Learn about html and how it can be used in order display wanted information on a website\n",
    "- Learn about different data types and what each one represents \n",
    "- Learn about DOM to be able to display wanted information on the website based on user interaction or background things\n",
    "- Learn about JavaScript to integrate functionality into the website\n",
    "- Learn about JS debugging in order to be able to spot and fix certain syntax or logical errors when coding\n",
    "- Get AWS deployed\n",
    "- Start formulating the passion project"
   ]
  }
 ],
 "metadata": {
  "language_info": {
   "name": "python"
  }
 },
 "nbformat": 4,
 "nbformat_minor": 2
}
