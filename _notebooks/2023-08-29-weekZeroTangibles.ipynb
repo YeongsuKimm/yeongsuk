{
 "cells": [
  {
   "cell_type": "markdown",
   "id": "994db1db",
   "metadata": {},
   "source": [
    "---\n",
    "# toc: true\n",
    "comments: false\n",
    "layout: default\n",
    "title: Week 0 Tangibles\n",
    "type: tangibles\n",
    "courses: { compsci: {week: 0} }\n",
    "---"
   ]
  },
  {
   "cell_type": "markdown",
   "id": "f09c4cae",
   "metadata": {},
   "source": [
    "<h1>Week 0 Tangibles</h1>\n",
    "\n",
    "> Thursday: \n",
    "- Installed all necessary tools. Was able to fix a few errors in which the make command wasn't working.\n",
    "\n",
    "> Friday: \n",
    "- Added the free form image onto the landing page. \n",
    "- Figured out how to add images through markdown. \n",
    "- Ran into an error while trying to figure out how to post images but figured it out. (solution in blogs)\n",
    "\n",
    "> Week takeaways\n",
    "- Learned about and became familiar with useful tools for the class. \n",
    "- Started to learn about using HTML to make changes to the site.\n",
    "- Started to use CSS to make customizations to the styles."
   ]
  }
 ],
 "metadata": {
  "kernelspec": {
   "display_name": "Python 3 (ipykernel)",
   "language": "python",
   "name": "python3"
  },
  "language_info": {
   "codemirror_mode": {
    "name": "ipython",
    "version": 3
   },
   "file_extension": ".py",
   "mimetype": "text/x-python",
   "name": "python",
   "nbconvert_exporter": "python",
   "pygments_lexer": "ipython3",
   "version": "3.10.12"
  }
 },
 "nbformat": 4,
 "nbformat_minor": 5
}
