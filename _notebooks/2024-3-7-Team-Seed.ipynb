{
 "cells": [
  {
   "cell_type": "markdown",
   "metadata": {},
   "source": [
    "---\n",
    "comments: true\n",
    "layout: post\n",
    "title: Team Seed\n",
    "description: Starting seed for our team\n",
    "type: hacks\n",
    "courses: { compsci: {week: 26} }\n",
    "---\n"
   ]
  },
  {
   "cell_type": "markdown",
   "metadata": {},
   "source": [
    "# Completion of the 90% seed\n",
    "- [Our team blog](https://napoleon-bonaparte-official.github.io/corsica-blog/)\n",
    "\n",
    "# Team Progress\n",
    "\n",
    "## Features Prior to Implementation\n",
    "\n",
    "Description of features prior to implementation:\n",
    "\n",
    "\n",
    "\n",
    "* Design and planning\n",
    "* Key features\n",
    "* [Features prior to implementation](https://kinetekenergy.github.io/blog/posts/Checkpoint_IPYNB_2_/)\n",
    "\n",
    "Planning table of issues and features:\n",
    "\n",
    "Features:\n",
    "\n",
    "|Features|Link|\n",
    "|-|-|\n",
    "|View count which updates whenever someone views a video|[Issue](https://github.com/Napoleon-Bonaparte-Official/corsica-blog/issues/3)|\n",
    "|Video categories to sort videos and choose which category to watch|[Issue](https://github.com/Napoleon-Bonaparte-Official/corsica-blog/issues/3)|\n",
    "|Login feature which connects to upload. When uploading a video, the user who uploaded it will be in the description and this will be automatic.|[Issue](https://github.com/Napoleon-Bonaparte-Official/corsica-blog/issues/3)|\n",
    "|Deleting user accounts and updating an email so that users can close their account and update information|[Issue](https://github.com/Napoleon-Bonaparte-Official/corsica-blog/issues/3)|\n",
    "|Allow users to add a description to their videos. They can also add a tag so that the category feature sorts it|[Issue](https://github.com/Napoleon-Bonaparte-Official/corsica-blog/issues/3)|\n",
    "\n",
    "## Fosters Participation\n",
    "- Yeongsu and Will have been in a group before, so we look forward to incorporating Anthony into our project and integrating some of the things he did in his CPT project.\n",
    "\n",
    "## Weekly Crossover Review\n",
    "- Cycling throughout the roles of participation in the roles of frontend and backend, for example our Machine Learning project for our video recommendation site. The third person can work on integrating them all together or work on wherever is needed for help. \n",
    "\n",
    "## Other Miscellaneous stuff\n",
    "- Our project is personalized (homepages)\n",
    "- Our project works at all times, and was deployed at one point fully working (can't really show it now)\n",
    "\n",
    "\n",
    "## Working Together to Improve All CPT Projects\n",
    "- Our CPT was a video sharing platform that allowed for video uploads, search, and streaming. \n",
    "- Anthony's CPT was a questioning form to output what vacation areas you might enjoy. \n",
    "- Through this, we are looking to implement both ideas by including a question form when creating the account in order to ask the preferred preferences to the video. This incorporates both machine learning with the use of data. \n"
   ]
  },
  {
   "cell_type": "markdown",
   "metadata": {},
   "source": []
  }
 ],
 "metadata": {
  "kernelspec": {
   "display_name": "Python 3",
   "language": "python",
   "name": "python3"
  },
  "language_info": {
   "codemirror_mode": {
    "name": "ipython",
    "version": 3
   },
   "file_extension": ".py",
   "mimetype": "text/x-python",
   "name": "python",
   "nbconvert_exporter": "python",
   "pygments_lexer": "ipython3",
   "version": "3.11.7"
  }
 },
 "nbformat": 4,
 "nbformat_minor": 2
}
