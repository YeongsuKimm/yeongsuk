{
 "cells": [
  {
   "cell_type": "markdown",
   "metadata": {},
   "source": [
    "---\n",
    "title: Using Javascript with HTML DOM\n",
    "hide: True\n",
    "description: A Tech Talk on how javascript can interact with HTML DOM\n",
    "type: ccc\n",
    "permalink: /basics/dom\n",
    "author: Rohan Juneja\n",
    "---"
   ]
  },
  {
   "cell_type": "raw",
   "metadata": {},
   "source": [
    "{% include nav_basics.html %}\n"
   ]
  },
  {
   "cell_type": "markdown",
   "metadata": {},
   "source": [
    "<!-- for our messaging system -->\n",
    "<html>\n",
    "    <head>\n",
    "    <style>\n",
    "        .note_button {\n",
    "            color:white;\n",
    "            padding:9px 13px; \n",
    "            background-color:#36393F;\n",
    "            transition-duration:0.4s;\n",
    "            border-radius:8px;\n",
    "        }\n",
    "        .note_button:hover {\n",
    "            background-color:gray;\n",
    "        }\n",
    "    </style>\n",
    "    </head>\n",
    "    <body>\n",
    "    <button class=\"note_button\" onclick=\"createItem()\">Create Note</button>\n",
    "    <button class=\"note_button\" onclick=\"clearList()\">Clear Notepad</button>\n",
    "    <div class=\"notepad\">\n",
    "        <h1 style=\"color:white\">Notepad</h1>\n",
    "        <ol id=\"note\">\n",
    "        </ol>\n",
    "    </div>\n",
    "    <script>\n",
    "        function createItem() {\n",
    "            // Prompt the user for a note item\n",
    "            var item =  prompt(\"Enter a to-do item:\")\n",
    "            // Ensure that the user entered something before proceeding\n",
    "            if (item !== null && item.trim() !== \"\") {\n",
    "                // Create a new list item\n",
    "                var note = document.createElement(\"li\");\n",
    "                note.innerHTML = item;\n",
    "                // Append the list item to the DOM\n",
    "                var location = document.getElementById(\"note\");\n",
    "                location.appendChild(note);\n",
    "                // Save the note item to localStorage\n",
    "                saveItemToLocalStorage(item);\n",
    "            }\n",
    "        }\n",
    "        function saveItemToLocalStorage(item) {\n",
    "            // Retrieve the existing notes from localStorage (if any)\n",
    "            var existingNotes = JSON.parse(localStorage.getItem(\"notes\")) || [];\n",
    "            // Add the new note to the array of notes\n",
    "            existingNotes.push(item);\n",
    "            // Save the updated array back to localStorage\n",
    "            localStorage.setItem(\"notes\", JSON.stringify(existingNotes));\n",
    "        }\n",
    "        // Load saved notes from localStorage when the page loads\n",
    "        function loadNotes() {\n",
    "            var location = document.getElementById(\"note\");\n",
    "            var existingNotes = JSON.parse(localStorage.getItem(\"notes\")) || [];\n",
    "            existingNotes.forEach(function (item) {\n",
    "                var note = document.createElement(\"li\");\n",
    "                note.innerHTML = item;\n",
    "                location.appendChild(note);\n",
    "            });\n",
    "        }\n",
    "        function clearList() {\n",
    "            localStorage.removeItem(\"notes\");\n",
    "            var location = document.getElementById(\"note\");\n",
    "            location.innerHTML = \"\";\n",
    "        }\n",
    "        // Call loadNotes() when the page loads to populate existing notes\n",
    "        window.onload = loadNotes;\n",
    "    </script>\n",
    "    </body>\n",
    "</html>"
   ]
  }
 ],
 "metadata": {
  "kernelspec": {
   "display_name": "Python 3",
   "language": "python",
   "name": "python3"
  },
  "language_info": {
   "codemirror_mode": {
    "name": "ipython",
    "version": 3
   },
   "file_extension": ".py",
   "mimetype": "text/x-python",
   "name": "python",
   "nbconvert_exporter": "python",
   "pygments_lexer": "ipython3",
   "version": "3.9.12"
  },
  "orig_nbformat": 4
 },
 "nbformat": 4,
 "nbformat_minor": 2
}
