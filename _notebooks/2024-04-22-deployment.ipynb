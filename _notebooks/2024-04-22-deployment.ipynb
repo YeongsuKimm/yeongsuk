{
 "cells": [
  {
   "cell_type": "markdown",
   "metadata": {},
   "source": [
    "- cors from main.py to __init__.py\n",
    "\n",
    "- @token_required should be guarding specific methods and endpoints for api\n",
    "\n",
    "- token_required in authmiddleware.py\n",
    "    - returns user object upon success login\n",
    "\n",
    "\n",
    "- Unguarded requests\n",
    "-    POST request for signing up and creating new users.\n",
    "-    POST request for logging in and authorizing users.\n",
    "- Guarded requests, @token_required\n",
    "-    GET request(s) for fetching user data from the system.\n",
    "-    PUT request for updating user information, which requires user or admin authentication.\n",
    "-    DELETE request for removing a user from the database, which requires admin authentication.\n",
    "\n",
    "- redirect user upon login\n",
    "\n",
    "- error handling"
   ]
  }
 ],
 "metadata": {
  "language_info": {
   "name": "python"
  }
 },
 "nbformat": 4,
 "nbformat_minor": 2
}
