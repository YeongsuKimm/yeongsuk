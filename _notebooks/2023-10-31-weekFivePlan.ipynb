{
 "cells": [
  {
   "cell_type": "markdown",
   "metadata": {},
   "source": [
    "---\n",
    "# toc: true\n",
    "comments: false\n",
    "layout: default\n",
    "title: Week 5 Plans\n",
    "type: plans \n",
    "courses: { compsci: {week: 5} }\n",
    "---"
   ]
  },
  {
   "cell_type": "markdown",
   "metadata": {},
   "source": [
    "<h1>Week 5 Plans</h1>\n",
    "- Learn how to use apis from different sources to access data\n",
    "- For me, I plan to use the youtube api in order to access certain videos based on user input\n",
    "- Learn how to integrate flask\n",
    "- Flask will allow me to display or somehow integrate python code into a user display through html\n",
    "- Learn about the different requests in flask"
   ]
  }
 ],
 "metadata": {
  "language_info": {
   "name": "python"
  }
 },
 "nbformat": 4,
 "nbformat_minor": 2
}
