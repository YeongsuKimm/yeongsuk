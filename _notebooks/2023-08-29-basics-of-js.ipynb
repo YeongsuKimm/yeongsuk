{
 "cells": [
  {
   "cell_type": "markdown",
   "metadata": {},
   "source": [
    "---\n",
    "title: Basics of Javascript\n",
    "hide: True\n",
    "# description: A Tech Talk on how to use javascript\n",
    "type: ccc\n",
    "permalink: /basics/javascript\n",
    "author: Rohan Juneja\n",
    "comments: true\n",
    "---"
   ]
  },
  {
   "cell_type": "raw",
   "metadata": {},
   "source": [
    "{% include nav_basics.html %}\n"
   ]
  },
  {
   "cell_type": "markdown",
   "metadata": {},
   "source": [
    "<html>\n",
    "    <head>\n",
    "    </head>\n",
    "    <body>\n",
    "        <button style=\"border-radius:10px; size:70x;\" onclick=\"checkscores(1,2)\">Add Character</button>\n",
    "        <br><br><br>\n",
    "        <!-- <form action=\"/action_page.php\">\n",
    "            <label for=\"name\">Name :</label>\n",
    "            <input type=\"text\" id=\"name\" name=\"name\"><br><br>\n",
    "            <label for=\"id_num\">ID:</label>\n",
    "            <input type=\"text\" id=\"id_num\" name=\"id_num\"><br><br>\n",
    "            <input type=\"submit\" value=\"Submit\">\n",
    "        </form> -->\n",
    "        <script>\n",
    "            function checkscores() {\n",
    "                var playerOne = prompt(\"Enter Player One Score: \");\n",
    "                var playerTwo = prompt(\"Enter Player Two Score: \");\n",
    "                if(playerOne > playerTwo)\n",
    "                {\n",
    "                    console.log(\"Player One Wins!\");\n",
    "                }\n",
    "                else if(playerOne < playerTwo)\n",
    "                {\n",
    "                    console.log(\"Player Two Wins!\");\n",
    "                }\n",
    "                else {\n",
    "                    console.log(\"It's a Tie!\");\n",
    "                }\n",
    "            }\n",
    "        </script>\n",
    "    </body>\n",
    "</html>"
   ]
  },
  {
   "cell_type": "code",
   "execution_count": null,
   "metadata": {},
   "outputs": [],
   "source": [
    "%%html\n",
    "<html>\n",
    "    <head>\n",
    "    </head>\n",
    "    <body>\n",
    "        <script>\n",
    "            function checkscores(playerOne, playerTwo) {\n",
    "                if(playerOne > playerTwo)\n",
    "                {\n",
    "                    console.log(\"Player One Wins!\");\n",
    "                }\n",
    "                else if(playerOne < playerTwo)\n",
    "                {\n",
    "                    console.log(\"Player TWo Wins!\");\n",
    "                }\n",
    "                else {\n",
    "                    console.log(\"It's a Tie!\");\n",
    "                }\n",
    "            }\n",
    "        </script>\n",
    "    </body>\n",
    "</html>"
   ]
  }
 ],
 "metadata": {
  "kernelspec": {
   "display_name": "Python 3",
   "language": "python",
   "name": "python3"
  },
  "language_info": {
   "codemirror_mode": {
    "name": "ipython",
    "version": 3
   },
   "file_extension": ".py",
   "mimetype": "text/x-python",
   "name": "python",
   "nbconvert_exporter": "python",
   "pygments_lexer": "ipython3",
   "version": "3.10.12"
  },
  "orig_nbformat": 4
 },
 "nbformat": 4,
 "nbformat_minor": 2
}
